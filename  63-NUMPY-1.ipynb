{
 "cells": [
  {
   "cell_type": "code",
   "execution_count": 1,
   "id": "c7078cac",
   "metadata": {},
   "outputs": [
    {
     "name": "stdout",
     "output_type": "stream",
     "text": [
      "One dimensional array: [1 2 3 4]\n"
     ]
    }
   ],
   "source": [
    "import numpy as np\n",
    "a=np.array([1,2,3,4])\n",
    "print(\"One dimensional array:\",a)"
   ]
  },
  {
   "cell_type": "code",
   "execution_count": 2,
   "id": "651c410a",
   "metadata": {},
   "outputs": [
    {
     "name": "stdout",
     "output_type": "stream",
     "text": [
      "Two dimensional array: [[1 2 3 4]\n",
      " [5 6 7 8]]\n"
     ]
    }
   ],
   "source": [
    "import numpy as np\n",
    "b=np.array([[1,2,3,4],[5,6,7,8]])\n",
    "print(\"Two dimensional array:\",b)"
   ]
  },
  {
   "cell_type": "code",
   "execution_count": 3,
   "id": "c1337130",
   "metadata": {},
   "outputs": [
    {
     "name": "stdout",
     "output_type": "stream",
     "text": [
      "Three dimensional array: [[ 1  2  3  4]\n",
      " [ 5  6  7  8]\n",
      " [ 9 10 11 12]]\n"
     ]
    }
   ],
   "source": [
    "import numpy as np\n",
    "c=np.array([[1,2,3,4],[5,6,7,8],[9,10,11,12]])\n",
    "print(\"Three dimensional array:\",c)"
   ]
  },
  {
   "cell_type": "code",
   "execution_count": 4,
   "id": "49b4b736",
   "metadata": {},
   "outputs": [
    {
     "name": "stdout",
     "output_type": "stream",
     "text": [
      "\n",
      " Array with all zeros\n",
      " [[0. 0. 0. 0. 0.]\n",
      " [0. 0. 0. 0. 0.]\n",
      " [0. 0. 0. 0. 0.]]\n"
     ]
    }
   ],
   "source": [
    "import numpy as np\n",
    "d=np.zeros((3,5))\n",
    "print(\"\\n Array with all zeros\\n\",d)"
   ]
  },
  {
   "cell_type": "code",
   "execution_count": 5,
   "id": "a9d4bbbb",
   "metadata": {},
   "outputs": [
    {
     "name": "stdout",
     "output_type": "stream",
     "text": [
      "\n",
      " Random value\n",
      " [[0.71864137 0.19564765 0.83781352 0.37156376 0.31599671]\n",
      " [0.06433179 0.73427538 0.8528099  0.02022083 0.44068574]\n",
      " [0.19839705 0.38026839 0.50150051 0.61197272 0.55278485]]\n"
     ]
    }
   ],
   "source": [
    "import numpy as np\n",
    "e=np.random.random((3,5))\n",
    "print(\"\\n Random value\\n\",e)"
   ]
  },
  {
   "cell_type": "code",
   "execution_count": 6,
   "id": "a5a97f7e",
   "metadata": {},
   "outputs": [
    {
     "name": "stdout",
     "output_type": "stream",
     "text": [
      "\n",
      " Random value\n",
      " [[0.38085243 0.18921303 0.15729519 0.52564462 0.57374833]\n",
      " [0.34735294 0.33513557 0.60543102 0.03251976 0.95716188]\n",
      " [0.0579005  0.04143572 0.01219367 0.81589875 0.04050382]]\n"
     ]
    }
   ],
   "source": [
    "import numpy as np\n",
    "f=np.random.random((3,5))\n",
    "print(\"\\n Random value\\n\",f)"
   ]
  },
  {
   "cell_type": "code",
   "execution_count": 7,
   "id": "ed967574",
   "metadata": {},
   "outputs": [
    {
     "name": "stdout",
     "output_type": "stream",
     "text": [
      "\n",
      " sequence value:\n",
      " [0 1 2 3 4 5 6 7 8 9]\n"
     ]
    }
   ],
   "source": [
    "import numpy as np\n",
    "a=np.arange(0,10,1)\n",
    "print(\"\\n sequence value:\\n\",a)"
   ]
  },
  {
   "cell_type": "code",
   "execution_count": 8,
   "id": "a762d162",
   "metadata": {},
   "outputs": [
    {
     "name": "stdout",
     "output_type": "stream",
     "text": [
      "\n",
      " sequence value:\n",
      " [ 0  5 10 15 20 25 30 35]\n"
     ]
    }
   ],
   "source": [
    "import numpy as np\n",
    "b=np.arange(0,36,5)\n",
    "print(\"\\n sequence value:\\n\",b)"
   ]
  },
  {
   "cell_type": "code",
   "execution_count": 10,
   "id": "fcf8190f",
   "metadata": {},
   "outputs": [
    {
     "name": "stdout",
     "output_type": "stream",
     "text": [
      "\n",
      " original array:\n",
      " [[ 1  2  3  4]\n",
      " [ 5  6  7  8]\n",
      " [ 9 10 11 12]]\n",
      "\n",
      " reshaped array:\n",
      " [[ 1  2  3]\n",
      " [ 4  5  6]\n",
      " [ 7  8  9]\n",
      " [10 11 12]]\n"
     ]
    }
   ],
   "source": [
    "import numpy as np\n",
    "orgarr=np.array([[1,2,3,4],[5,6,7,8],[9,10,11,12]])\n",
    "newarr=orgarr.reshape(4,3)\n",
    "print(\"\\n original array:\\n\",orgarr)\n",
    "print(\"\\n reshaped array:\\n\",newarr)"
   ]
  },
  {
   "cell_type": "code",
   "execution_count": 11,
   "id": "96e3fcac",
   "metadata": {},
   "outputs": [
    {
     "name": "stdout",
     "output_type": "stream",
     "text": [
      "\n",
      " original array:\n",
      " [[ 1  2  3  4  5  6]\n",
      " [ 7  8  9 10 11 12]\n",
      " [13 14 15 16 17 18]\n",
      " [19 20 21 22 23 24]\n",
      " [25 26 27 28 29 30]]\n",
      "\n",
      " reshaped array:\n",
      " [[ 1  2  3  4  5]\n",
      " [ 6  7  8  9 10]\n",
      " [11 12 13 14 15]\n",
      " [16 17 18 19 20]\n",
      " [21 22 23 24 25]\n",
      " [26 27 28 29 30]]\n"
     ]
    }
   ],
   "source": [
    "import numpy as np\n",
    "orgarr=np.array([[1,2,3,4,5,6],[7,8,9,10,11,12],[13,14,15,16,17,18],[19,20,21,22,23,24],[25,26,27,28,29,30]])\n",
    "newarr=orgarr.reshape(6,5)\n",
    "print(\"\\n original array:\\n\",orgarr)\n",
    "print(\"\\n reshaped array:\\n\",newarr)"
   ]
  },
  {
   "cell_type": "code",
   "execution_count": 18,
   "id": "93aec058",
   "metadata": {},
   "outputs": [
    {
     "name": "stdout",
     "output_type": "stream",
     "text": [
      "\n",
      " original array:\n",
      " [[ 1  2  3  4]\n",
      " [ 5  6  7  8]\n",
      " [ 9 10 11 12]]\n",
      "\n",
      " flatten array:\n",
      " [ 1  2  3  4  5  6  7  8  9 10 11 12]\n"
     ]
    }
   ],
   "source": [
    "import numpy as np\n",
    "orgarr=np.array([[1,2,3,4],[5,6,7,8],[9,10,11,12]])\n",
    "newarr=orgarr.flatten()\n",
    "print(\"\\n original array:\\n\",orgarr)\n",
    "print(\"\\n flatten array:\\n\",newarr)"
   ]
  },
  {
   "cell_type": "code",
   "execution_count": 19,
   "id": "8241ee45",
   "metadata": {},
   "outputs": [
    {
     "name": "stdout",
     "output_type": "stream",
     "text": [
      "\n",
      " no of dimension \n",
      " 2\n"
     ]
    }
   ],
   "source": [
    "import numpy as np\n",
    "a=np.array([[1,2,3,4],[5,6,7,8],[9,10,11,12]])\n",
    "print(\"\\n no of dimension \\n\",a.ndim)"
   ]
  },
  {
   "cell_type": "code",
   "execution_count": 21,
   "id": "aca7c517",
   "metadata": {},
   "outputs": [
    {
     "name": "stdout",
     "output_type": "stream",
     "text": [
      "\n",
      " no of dimension \n",
      " 1\n"
     ]
    }
   ],
   "source": [
    "import numpy as np\n",
    "b=np.array([1,2,3])\n",
    "print(\"\\n no of dimension \\n\",b.ndim)"
   ]
  },
  {
   "cell_type": "code",
   "execution_count": 28,
   "id": "37a827b7",
   "metadata": {},
   "outputs": [
    {
     "name": "stdout",
     "output_type": "stream",
     "text": [
      "\n",
      " no of dimension \n",
      " 3\n"
     ]
    }
   ],
   "source": [
    "import numpy as np\n",
    "c=np.array([[[1,2,3,4],[5,6,7,8]],[[9,10,11,12],[13,14,15,16]]])\n",
    "print(\"\\n no of dimension \\n\",c.ndim)"
   ]
  },
  {
   "cell_type": "code",
   "execution_count": 29,
   "id": "75df1793",
   "metadata": {},
   "outputs": [
    {
     "name": "stdout",
     "output_type": "stream",
     "text": [
      "\n",
      " shape of the array \n",
      " (3, 4)\n"
     ]
    }
   ],
   "source": [
    "import numpy as np\n",
    "d=np.array([[1,2,3,4],[5,6,7,8],[9,10,11,12]])\n",
    "print(\"\\n shape of the array \\n\",d.shape)"
   ]
  },
  {
   "cell_type": "code",
   "execution_count": 30,
   "id": "308df7ed",
   "metadata": {},
   "outputs": [
    {
     "name": "stdout",
     "output_type": "stream",
     "text": [
      "\n",
      " type of array:\n",
      " int64\n"
     ]
    }
   ],
   "source": [
    "import numpy as np\n",
    "e=np.array([[1,2,3,4],[5,6,7,8],[9,10,11,12]])\n",
    "print(\"\\n type of array:\\n\",e.dtype)"
   ]
  },
  {
   "cell_type": "code",
   "execution_count": 1,
   "id": "ca4d2e0b",
   "metadata": {},
   "outputs": [
    {
     "name": "stdout",
     "output_type": "stream",
     "text": [
      "[1. 2. 3.]\n",
      "float64\n"
     ]
    }
   ],
   "source": [
    "import numpy as np\n",
    "a=[1,2,3]\n",
    "a=np.array(a)\n",
    "newtype=a.astype('float64')\n",
    "print(newtype)\n",
    "print(newtype.dtype)\n"
   ]
  },
  {
   "cell_type": "code",
   "execution_count": null,
   "id": "9cb09cc2",
   "metadata": {},
   "outputs": [],
   "source": [
    "                                                                    "
   ]
  }
 ],
 "metadata": {
  "kernelspec": {
   "display_name": "Python 3 (ipykernel)",
   "language": "python",
   "name": "python3"
  },
  "language_info": {
   "codemirror_mode": {
    "name": "ipython",
    "version": 3
   },
   "file_extension": ".py",
   "mimetype": "text/x-python",
   "name": "python",
   "nbconvert_exporter": "python",
   "pygments_lexer": "ipython3",
   "version": "3.11.5"
  }
 },
 "nbformat": 4,
 "nbformat_minor": 5
}
